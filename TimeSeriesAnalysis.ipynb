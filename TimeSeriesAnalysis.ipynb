{
  "nbformat": 4,
  "nbformat_minor": 0,
  "metadata": {
    "colab": {
      "name": "TimeSeriesAnalysis.ipynb",
      "provenance": [],
      "collapsed_sections": [],
      "authorship_tag": "ABX9TyOfMewDF1iVwu6zsS4T8ODg",
      "include_colab_link": true
    },
    "kernelspec": {
      "name": "python3",
      "display_name": "Python 3"
    },
    "language_info": {
      "name": "python"
    }
  },
  "cells": [
    {
      "cell_type": "markdown",
      "metadata": {
        "id": "view-in-github",
        "colab_type": "text"
      },
      "source": [
        "<a href=\"https://colab.research.google.com/github/Jaise152/TimeSeriesAnalysis/blob/main/TimeSeriesAnalysis.ipynb\" target=\"_parent\"><img src=\"https://colab.research.google.com/assets/colab-badge.svg\" alt=\"Open In Colab\"/></a>"
      ]
    },
    {
      "cell_type": "code",
      "execution_count": 7,
      "metadata": {
        "id": "kOhh13lHrFhZ"
      },
      "outputs": [],
      "source": [
        "import fbprophet\n",
        "import pandas as pd"
      ]
    },
    {
      "cell_type": "code",
      "source": [
        "f = pd.read_csv('https://raw.githubusercontent.com/Jaise152/TimeSeriesAnalysis/main/monthly-car-sales.txt')"
      ],
      "metadata": {
        "id": "yAQRQcO7rTzL"
      },
      "execution_count": 8,
      "outputs": []
    },
    {
      "cell_type": "code",
      "source": [
        ""
      ],
      "metadata": {
        "id": "fP_xLUkexGpo"
      },
      "execution_count": null,
      "outputs": []
    }
  ]
}